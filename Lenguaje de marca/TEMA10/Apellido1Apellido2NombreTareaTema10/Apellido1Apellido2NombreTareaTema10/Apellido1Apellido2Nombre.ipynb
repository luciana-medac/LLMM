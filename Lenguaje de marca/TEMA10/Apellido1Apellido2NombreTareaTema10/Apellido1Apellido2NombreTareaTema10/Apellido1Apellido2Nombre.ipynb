{
 "cells": [
  {
   "cell_type": "markdown",
   "metadata": {},
   "source": [
    "# Tarea 1 : XML y DTD con Uso de archivos"
   ]
  },
  {
   "cell_type": "code",
   "execution_count": 2,
   "metadata": {},
   "outputs": [
    {
     "name": "stdout",
     "output_type": "stream",
     "text": [
      "Requirement already satisfied: lxml in c:\\users\\molin\\appdata\\local\\programs\\python\\python312\\lib\\site-packages (5.3.0)\n",
      "Note: you may need to restart the kernel to use updated packages.\n"
     ]
    },
    {
     "name": "stderr",
     "output_type": "stream",
     "text": [
      "\n",
      "[notice] A new release of pip is available: 24.0 -> 24.3.1\n",
      "[notice] To update, run: python.exe -m pip install --upgrade pip\n"
     ]
    }
   ],
   "source": [
    "%pip install lxml"
   ]
  },
  {
   "cell_type": "markdown",
   "metadata": {},
   "source": [
    "No modificar siguiente bloque"
   ]
  },
  {
   "cell_type": "code",
   "execution_count": 3,
   "metadata": {},
   "outputs": [],
   "source": [
    "from lxml import etree\n",
    "\n",
    "def validar(xml_file,dtd_file):\n",
    "    try:\n",
    "        # Leer el archivo DTD\n",
    "        with open(dtd_file, 'rb') as dtd_f:\n",
    "            dtd = etree.DTD(dtd_f)\n",
    "        \n",
    "        # Leer y parsear el archivo XML\n",
    "        with open(xml_file, 'rb') as xml_f:\n",
    "            xml_content = xml_f.read()\n",
    "            doc = etree.XML(xml_content)\n",
    "        \n",
    "        # Validar el XML contra el DTD\n",
    "        if dtd.validate(doc):\n",
    "            return print(\"El archivo XML es válido según el DTD.\")\n",
    "        else:\n",
    "            print(\"El archivo XML no es válido:\")\n",
    "            return print(dtd.error_log.filter_from_errors())\n",
    "    except Exception as e:\n",
    "        return print(f\"Error al procesar los archivos: {e}\")\n"
   ]
  },
  {
   "cell_type": "markdown",
   "metadata": {},
   "source": [
    "<h1> Ejercicio 1 </h1>\n",
    "Se quiere definir un lenguaje de marcas para representar los resultados de una liga de fútbol. \n",
    "\n",
    "La información que se quiere almacenar de cada partido es:\n",
    "\n",
    "* El nombre del equipo local\n",
    "* El nombre del equipo visitante\n",
    "* Los goles marcados por el equipo local\n",
    "* Los goles marcados por el equipo visitante*\n",
    "\n",
    "\n",
    "Un ejemplo de resultados serían \n",
    "\n",
    "Utica: 2 - Villagordo: 2\n",
    "Atletico Jaen: 1 - Betis Iliturgitano: 2\n",
    "\n",
    "La implemetencación del DTD será a `libre elección` del alumno pudiendo ser :\n",
    "\n",
    "* No haya atributos, sino únicamente etiquetas\n",
    "* Los goles sean atributos\n",
    "* Toda la información se guarde en forma de atributos\n",
    "\n",
    "Crear un fichero con el XML (resultados.xml) y un DTD (resultados.dtd) y comprobar que están bien formado con la función validar. \n",
    "Introduzca al menos 5 partidos.\n"
   ]
  },
  {
   "cell_type": "code",
   "execution_count": 5,
   "metadata": {},
   "outputs": [
    {
     "name": "stdout",
     "output_type": "stream",
     "text": [
      "El archivo XML es válido según el DTD.\n"
     ]
    }
   ],
   "source": [
    "# Celda a completar\n",
    "\n",
    "xml_file = \"resultados.xml\"\n",
    "dtd_file = \"resultados.dtd\"\n",
    "\n",
    "validar(xml_file,dtd_file)"
   ]
  },
  {
   "cell_type": "code",
   "execution_count": null,
   "metadata": {},
   "outputs": [],
   "source": [
    "#EXPLICACIÓN TAREA 1\n",
    "#Se han creado dos ficheros, uno que es resultado.xml y otro resultados.dtd\n",
    "#El fichero .dtd contendrá las reglas a seguir para validar el fichero .xml\n",
    "#Mientras que el fichero .xml contendrá en sí una pequeña \"base de datos\" sobre las anotaciones de los partidos\n",
    "\n",
    "#En mi caso, he usado goles como atributo para ayudar a la eficiencia del procesamiento del xml. Lo mismo sería para la opción\n",
    "#de guardar toda la información como atributos\n",
    "\n",
    "#Teniendo en cuenta lo anterior, en el DTD añadiremos lo siguiente:\n",
    "# - Un elemento raiz que es resultados, que contendrá partidos y para decir que va a ser más de uno, le añadimos un *\n",
    "# - Después, tendremos dentro de partido tanto el equipo_local como el equipo_visitante\n",
    "# - Cada uno de los equipos tiene un nombre, por ejemplo: equipo_local(nombre)\n",
    "# - Y detallamos el tipo de dato que será nombre (PCDATA), una cadena de carácteres.\n",
    "# - Para los goles, como hemos dicho antes, serán atributos por lo que tendremos un atributo para el equipo local y para el equipo visitante\n",
    "# los cuales, definiremos poniendo el elemento al que pertenece (equipo_local), el nombre del atributo(goles),\n",
    "# el tipo de dato que va a ser goles (CDATA) y añadimos REQUIRED para que sea obligatorio rellenar el atributo\n",
    "\n",
    "#Preparamos la información en el fichero .xml siguiendo las reglas establecidas\n",
    "#y para \"enlazar\" el fichero .dtd y que valide el .xml, añadimos \n",
    "#la siguiente línea al .xml: <!DOCTYPE resultados SYSTEM \"resultados.dtd\"> , se ubicará al principio del fichero, después\n",
    "#de la versión del xml\n"
   ]
  },
  {
   "cell_type": "markdown",
   "metadata": {},
   "source": [
    "# Tarea 2 : XML y DTD sin uso de archivos"
   ]
  },
  {
   "cell_type": "markdown",
   "metadata": {},
   "source": [
    "No modificar siguiente bloque"
   ]
  },
  {
   "cell_type": "code",
   "execution_count": 6,
   "metadata": {},
   "outputs": [],
   "source": [
    "from lxml import etree\n",
    "from io import StringIO\n",
    "\n",
    "def validar(dtd_string,xml_string):\n",
    "    # Crear el DTD\n",
    "    dtd = etree.DTD(StringIO(dtd_string))\n",
    "\n",
    "    # Parsear el XML\n",
    "    xml_tree = etree.XML(xml_string)\n",
    "\n",
    "    # Validar el XML contra el DTD\n",
    "    if dtd.validate(xml_tree):\n",
    "        return print(\"El XML es válido.\")\n",
    "    else:\n",
    "       print(dtd.error_log.filter_from_errors())\n",
    "       return print(\"El XML no es válido.\")"
   ]
  },
  {
   "cell_type": "markdown",
   "metadata": {},
   "source": [
    "<h1> Ejercicio </h1>\n",
    "\n",
    "Crea una cadena XML que cumpla con el DTD proporcionado. \n",
    "La cadena XML debe contener información sobre al menos tres lenguajes de programación diferentes. \n",
    "Cada lenguaje de programación debe incluir los siguientes elementos:\n",
    "* ranking  \n",
    "* nombre \n",
    "* creator\n",
    "* añoCreado\n",
    "* descripcion."
   ]
  },
  {
   "cell_type": "code",
   "execution_count": 7,
   "metadata": {},
   "outputs": [
    {
     "name": "stdout",
     "output_type": "stream",
     "text": [
      "El XML es válido.\n"
     ]
    }
   ],
   "source": [
    "\n",
    "#  DTD libros de programación (No modificar)\n",
    "dtd_string = \"\"\"\n",
    "    <!ELEMENT libreriaprogramacion (lenguaje*)>\n",
    "    <!ELEMENT lenguaje (nombre, creador, anioCreado, descripcion)>\n",
    "    <!ATTLIST lenguaje ranking CDATA #REQUIRED>\n",
    "    <!ELEMENT nombre (#PCDATA)>\n",
    "    <!ELEMENT creador (#PCDATA)>\n",
    "    <!ELEMENT anioCreado (#PCDATA)>\n",
    "    <!ELEMENT descripcion (#PCDATA)>\n",
    "\"\"\"\n",
    "\n",
    "# Define el XML como una cadena (Cadena de Texto a completar)\n",
    "xml_string = \"\"\"\n",
    "\n",
    "    <libreriaprogramacion>\n",
    "        <lenguaje ranking=\"1\" >\n",
    "            <nombre> Python </nombre>\n",
    "            <creador> Guido Van Rossum </creador>\n",
    "            <anioCreado> 1991 </anioCreado>\n",
    "            <descripcion> es una mierda </descripcion>\n",
    "        </lenguaje>\n",
    "        <lenguaje ranking=\"4\" >\n",
    "            <nombre> C++ </nombre>\n",
    "            <creador> Bjarne Stroustroup </creador>\n",
    "            <anioCreado> 1980 </anioCreado>\n",
    "            <descripcion> es una mierda tambien </descripcion>\n",
    "        </lenguaje>\n",
    "        <lenguaje ranking=\"2\" >\n",
    "            <nombre> Java </nombre>\n",
    "            <creador>  James Gosling </creador>\n",
    "            <anioCreado> 1955 </anioCreado>\n",
    "            <descripcion> es otra mierda tambien </descripcion>\n",
    "        </lenguaje>\n",
    "    </libreriaprogramacion>\n",
    "\n",
    "\"\"\"\n",
    "\n",
    "validar(dtd_string,xml_string)"
   ]
  },
  {
   "cell_type": "code",
   "execution_count": null,
   "metadata": {},
   "outputs": [],
   "source": [
    "#EXPLICACION TAREA 2\n",
    "#Acorde con el DTD, se ha creado el siguiente xml siguiendo las siguientes reglas:\n",
    "# - Un elemento raiz llamado libreriaprogramacion, que va a contener lenguaje\n",
    "# - Después tenemos otro elemento que va a ser lenguaje, en el que especificamos con el * que va a haber 1 o más\n",
    "# - Dentro de lenguaje tendremos los siguientes elementos: nombre, creador, anioCreado y descripcion\n",
    "# - Lenguaje también contiene un atributo llamado ranking que es alfanumérico (CDATA) y REQUIRED para ponerlo obligatorio, si o si se tiene que rellenar\n",
    "# - En lo siguiente vamos especificando las etiquetas que estarán dentro de lenguaje y el tipo de dato que contendrá (PCDATA) "
   ]
  },
  {
   "cell_type": "markdown",
   "metadata": {},
   "source": [
    "# Tarea 3 : DTD dentro de xml"
   ]
  },
  {
   "cell_type": "markdown",
   "metadata": {},
   "source": [
    "No modificar siguiente bloque"
   ]
  },
  {
   "cell_type": "code",
   "execution_count": 8,
   "metadata": {},
   "outputs": [],
   "source": [
    "from lxml import etree\n",
    "\n",
    "def validar_xml_con_dtd(xml_content):\n",
    "    \"\"\"\n",
    "    Verifica si un archivo XML cumple con las reglas de un DTD interno.\n",
    "    \n",
    "    :param xml_content: Cadena con el contenido XML a validar.\n",
    "    :return: True si el XML es válido según el DTD, False de lo contrario.\n",
    "    \"\"\"\n",
    "    try:\n",
    "        # Crear un parser que incluya soporte para DTD\n",
    "        parser = etree.XMLParser(dtd_validation=False, load_dtd=True)\n",
    "        \n",
    "        # Parsear el contenido del XML\n",
    "        xml_tree = etree.ElementTree(etree.fromstring(xml_content.encode('utf-8'), parser=parser))\n",
    "        \n",
    "        # Extraer el DTD del árbol\n",
    "        dtd = xml_tree.docinfo.internalDTD\n",
    "        if not dtd:\n",
    "            print(\"No se encontró un DTD interno en el XML.\")\n",
    "            return False\n",
    "        \n",
    "        # Validar el XML contra el DTD\n",
    "        es_valido = dtd.validate(xml_tree)\n",
    "        \n",
    "        if es_valido:\n",
    "            return print(\"El XML es válido según el DTD.\")\n",
    "        else:\n",
    "            print(dtd.error_log.filter_from_errors())  # Muestra los errores encontrados\n",
    "            return  print(\"El XML NO es válido según el DTD.\")\n",
    "    except etree.XMLSyntaxError as e:\n",
    "        return print(\"Error de sintaxis XML:\", e)\n",
    "\n",
    "\n",
    "\n"
   ]
  },
  {
   "cell_type": "markdown",
   "metadata": {},
   "source": [
    "<h1> Ejercicio 3 </h1>\n",
    "\n",
    "\n",
    "En una empresa desean almacenar su catálogo de productos en XML. Se ha definido este fichero canónico.\n",
    "\n",
    "\n",
    "\n",
    "----------------\n",
    "```xml\n",
    "<catalogo>\n",
    "    <!--El catalogo lleva uno o más elementos producto-->\n",
    "    <producto> <!--Producto puede tener un atributo codigo y número de unidades en stock-->\n",
    "        <nombre>Caja Fuerte</nombre>\n",
    "        <!--La descripción es optativa-->\n",
    "        <descripcion>Caja de seguridad segura</descripcion>\n",
    "        <origen>España</origen>\n",
    "    </producto>\n",
    "    <producto aaabbbccc=\"jjjjj\" stock=20 >\n",
    "        <nombre>Caja llaves</nombre>\n",
    "        <!-- Despues de la descripcion debe haber\n",
    "        uno de estos dos elementos :\n",
    "          a) origen\n",
    "          b) pais -->\n",
    "        <pais>Francia</pais>\n",
    "    </producto>\n",
    "</catalogo>\n",
    "```\n",
    "\n",
    "--------------------\n",
    "\n",
    "\n",
    "Modificar la siguiente celda para en la cadena `xml_ejemplo` se defina el dtd. Además ponga un ejemplo completo del xml con al menos 4 productos"
   ]
  },
  {
   "cell_type": "code",
   "execution_count": 9,
   "metadata": {},
   "outputs": [
    {
     "name": "stdout",
     "output_type": "stream",
     "text": [
      "El XML es válido según el DTD.\n"
     ]
    }
   ],
   "source": [
    "\n",
    "xml_ejemplo = \"\"\"<?xml version=\"1.0\" encoding=\"UTF-8\"?>\n",
    "<!DOCTYPE catalogo [\n",
    "    <!ELEMENT catalogo (producto)*>\n",
    "    <!ELEMENT producto (nombre, descripcion?, (origen | pais))>\n",
    "    <!ELEMENT nombre (#PCDATA)>\n",
    "    <!ELEMENT descripcion (#PCDATA)>\n",
    "    <!ELEMENT origen (#PCDATA)>\n",
    "    <!ELEMENT pais (#PCDATA)>\n",
    "    <!ATTLIST producto codigo ID #REQUIRED>\n",
    "    <!ATTLIST producto stock CDATA #REQUIRED>\n",
    "]>\n",
    "<catalogo>\n",
    "\n",
    "    <producto codigo=\"prod77\" stock=\"10\">\n",
    "        <nombre>Caja Fuerte</nombre>\n",
    "        <descripcion>Caja de seguridad segura</descripcion>\n",
    "        <origen>España</origen>\n",
    "    </producto>\n",
    "\n",
    "    <producto codigo=\"prod22\" stock=\"20\">\n",
    "        <nombre>Caja llaves</nombre>\n",
    "        <descripcion>Caja de seguridad segura</descripcion>\n",
    "        <pais>Francia</pais>\n",
    "    </producto>\n",
    "\n",
    "    <producto codigo=\"prod88\" stock=\"45\">\n",
    "        <nombre>Caja metalica</nombre>\n",
    "        <descripcion>Caja de seguridad segura</descripcion>\n",
    "        <pais>Rusia</pais>\n",
    "    </producto>\n",
    "\n",
    "    <producto codigo=\"prod95\" stock=\"20\">\n",
    "        <nombre>Caja fruta</nombre>\n",
    "        <descripcion>Caja de seguridad segura</descripcion>\n",
    "        <origen>Estonia</origen>\n",
    "    </producto>\n",
    "\n",
    "</catalogo>\n",
    "\n",
    "\"\"\"\n",
    "\n",
    "\n",
    "\n",
    "validar_xml_con_dtd(xml_ejemplo)"
   ]
  },
  {
   "cell_type": "code",
   "execution_count": null,
   "metadata": {},
   "outputs": [],
   "source": [
    "#EXPLICACION TAREA 3\n",
    "#Para validar un xml con un dtd interno, debemos añadir el DTD al xml de la siguiente forma:\n",
    "#si para un fichero externo usamos <!DOCTYPE resultados SYSTEM \"resultados.dtd\">, para uno interno usaremos \n",
    "#<!DOCTYPE catalogo []>,  dentro de los corchetes especificamos las reglas a seguir en el xml\n",
    "\n",
    "#En este caso se ha especificado un elemento raiz que es catalogo, dentro tendremos producto y\n",
    "#dentro de productos, tenemos el nombre, la descripcion (opcional, ya que tiene un ?), y o origen o pais, es decir\n",
    "#podemos poner un elemento que sea pais o uno que sea origen, pero no los dos a la vez. No podemos tener dentro de producto tanto origen como pais.\n",
    "\n",
    "#Seguido de ello, por cada elemento vamos a detallar el tipo de dato que es, con PCDATA, decimos que es una cadena de caracteres\n",
    "\n",
    "#Ahora, añadiremos los atributos que tendrá producto, que es codigo y stock, más el tipo de dato que será cada uno (ID y CDATA)\n",
    "#Ponemos primero a donde pertenece el atributo (producto), después el nombre del atributo(codigo, stock), el tipo de dato (ID y CDATA)\n",
    "#y finalmente si es obligatorio (REQUIRED)"
   ]
  },
  {
   "cell_type": "markdown",
   "metadata": {},
   "source": []
  }
 ],
 "metadata": {
  "kernelspec": {
   "display_name": "Python 3",
   "language": "python",
   "name": "python3"
  },
  "language_info": {
   "codemirror_mode": {
    "name": "ipython",
    "version": 3
   },
   "file_extension": ".py",
   "mimetype": "text/x-python",
   "name": "python",
   "nbconvert_exporter": "python",
   "pygments_lexer": "ipython3",
   "version": "3.12.3"
  }
 },
 "nbformat": 4,
 "nbformat_minor": 2
}
